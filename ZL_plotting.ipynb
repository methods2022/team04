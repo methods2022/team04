{
 "cells": [
  {
   "cell_type": "code",
   "execution_count": 1,
   "metadata": {},
   "outputs": [],
   "source": [
    "using PyPlot\n",
    "using CSV\n",
    "using DataFrames\n",
    "using HypothesisTests\n",
    "\n",
    "matplotlib.use(\"TkAgg\") #Allow IJulia to make plots in separate window"
   ]
  },
  {
   "cell_type": "code",
   "execution_count": 2,
   "metadata": {
    "scrolled": false
   },
   "outputs": [
    {
     "data": {
      "text/html": [
       "<div class=\"data-frame\"><p>18,177 rows × 29 columns (omitted printing of 26 columns)</p><table class=\"data-frame\"><thead><tr><th></th><th>PATIENT</th><th>ENCOUNTER</th><th>DURATION</th></tr><tr><th></th><th title=\"String\">String</th><th title=\"String\">String</th><th title=\"Int64\">Int64</th></tr></thead><tbody><tr><th>1</th><td>e1cab30e-e134-4b9b-95cf-79703aef434c</td><td>c1262f94-2b8b-4318-9a1f-365d94db2319</td><td>14</td></tr><tr><th>2</th><td>a84d194b-8aa2-4ec4-a784-0c9377c29b9a</td><td>c8240eb4-b218-4139-a350-e143c9a8a186</td><td>14</td></tr><tr><th>3</th><td>6a09d092-6425-424b-9425-197ae69fca26</td><td>d898bbc6-1f06-447a-a550-1a4011ff2ad6</td><td>8</td></tr><tr><th>4</th><td>8a4ff5cf-9c99-40ba-8fb2-aabab6e183e2</td><td>fd1aa46b-68ea-4c5a-8357-37f88ec251b3</td><td>13</td></tr><tr><th>5</th><td>7e461309-caa5-4c8a-9787-bdeff351c59d</td><td>b85cda70-268f-46d4-a143-724dcfb79db3</td><td>14</td></tr><tr><th>6</th><td>ccd56967-c6af-401e-8cfc-c7e4423767cd</td><td>f5a8b4c4-2447-4c4e-a8aa-0c6ffdee75ed</td><td>17</td></tr><tr><th>7</th><td>b2c6a7c8-5b88-4717-a0d9-acbafeca2251</td><td>885c7a91-0edc-4e2e-8795-18687cd2f999</td><td>7</td></tr><tr><th>8</th><td>d775d4ce-6b47-4089-9f3f-14b35adcab70</td><td>cdc6b1b6-ae20-434b-819e-78f6758d8ba5</td><td>17</td></tr><tr><th>9</th><td>fcf940b7-1c4a-4ce0-ba4b-13549767000f</td><td>fe2593a1-ddf3-40fb-a367-952aaf83a920</td><td>14</td></tr><tr><th>10</th><td>d15d4214-eaa6-42c9-998f-12ef7e93eb41</td><td>c3525cf2-c3fd-456b-b35d-bc1b5fbee516</td><td>13</td></tr><tr><th>11</th><td>cf9f6748-c280-49d1-b565-49f4e76521a0</td><td>ba02f15b-078a-429c-8874-cde1b1274fc1</td><td>4</td></tr><tr><th>12</th><td>ff61bfc2-be50-4af1-9481-73960daecba9</td><td>de2c90f7-cf3d-4390-9231-0fc9d914c75b</td><td>10</td></tr><tr><th>13</th><td>8759fdf9-e8a5-437e-823c-8ca664ed2cd7</td><td>cef5eda9-2f32-4a73-ae2a-a7f024907419</td><td>20</td></tr><tr><th>14</th><td>7ef564be-3a7d-4fab-bfdc-1134fd19c82e</td><td>0156af02-e391-4de1-8207-64f6d094c848</td><td>18</td></tr><tr><th>15</th><td>d6f3da21-f66a-42ec-9d49-e34356fa315b</td><td>a4eebaf9-12c3-40c5-9081-0accc8f3fb7e</td><td>14</td></tr><tr><th>16</th><td>4dbc7680-5109-4084-b42f-4e6eafe4f2aa</td><td>61a480c6-7bd0-4c9e-9e42-9aed5bbe03ce</td><td>21</td></tr><tr><th>17</th><td>2bd29b6a-c9d4-4873-8acd-00a38eb215f0</td><td>46237280-23a5-41ed-84cb-0cf2ce5a1a59</td><td>13</td></tr><tr><th>18</th><td>90fafd05-2cb3-4325-8aec-190d05463869</td><td>31f93f83-f18a-4816-8069-bfa938e7f2b3</td><td>14</td></tr><tr><th>19</th><td>24b33262-5a91-43c5-96ea-852ee5653472</td><td>2076181f-f531-4085-9b37-d0816e00cd13</td><td>18</td></tr><tr><th>20</th><td>49f841c2-de96-47b4-ad69-d085125fc253</td><td>2b0d3744-efd2-4742-834c-c6de4e1dc381</td><td>15</td></tr><tr><th>21</th><td>1385957b-4edf-4568-bdad-bb0a1a6ffb4b</td><td>9735e7bd-ba76-4ce9-a035-b41881cdbe87</td><td>15</td></tr><tr><th>22</th><td>d64543d8-6a35-4a87-be08-488f17d80ad4</td><td>6ac4251a-bc25-45cb-be2d-bceae6590241</td><td>6</td></tr><tr><th>23</th><td>57c912a6-a4d1-4db3-9780-e0c1a9d04504</td><td>f1c75f6f-ddc1-4be9-8bc2-306f8363df7d</td><td>20</td></tr><tr><th>24</th><td>77277a20-4228-4d3d-a2b6-433994a43284</td><td>0054b8a1-87e6-4b5c-89c0-751ea16d0789</td><td>17</td></tr><tr><th>25</th><td>30b51662-95a4-45cd-ae20-f6735c075e42</td><td>42996815-e64c-4c62-ba34-9c82e6f7ecf9</td><td>12</td></tr><tr><th>26</th><td>49041df1-698a-4551-9cf1-16e3f732fd94</td><td>9861118c-63fe-42f5-94f1-365fe3756ea8</td><td>11</td></tr><tr><th>27</th><td>c3ea3c46-f8d1-4abe-8fb2-8fc8f86b4ef4</td><td>d9d5f54b-da46-4fa2-a68f-bf966005bf75</td><td>18</td></tr><tr><th>28</th><td>380642a9-65d0-42b6-81f0-0ba1ffaa3932</td><td>7af34691-1d4f-4177-b3ad-d2ab3ca404ac</td><td>16</td></tr><tr><th>29</th><td>5dd3741b-7d75-4449-99c9-85dbb4f59a28</td><td>e52d102b-4010-4db4-af51-9efbadce7f58</td><td>5</td></tr><tr><th>30</th><td>3bd1c72b-927f-4bf2-aa9e-f2477c1eec7f</td><td>cfbc063f-ed88-48aa-a98d-126b76bce3e1</td><td>20</td></tr><tr><th>&vellip;</th><td>&vellip;</td><td>&vellip;</td><td>&vellip;</td></tr></tbody></table></div>"
      ],
      "text/latex": [
       "\\begin{tabular}{r|cccc}\n",
       "\t& PATIENT & ENCOUNTER & DURATION & \\\\\n",
       "\t\\hline\n",
       "\t& String & String & Int64 & \\\\\n",
       "\t\\hline\n",
       "\t1 & e1cab30e-e134-4b9b-95cf-79703aef434c & c1262f94-2b8b-4318-9a1f-365d94db2319 & 14 & $\\dots$ \\\\\n",
       "\t2 & a84d194b-8aa2-4ec4-a784-0c9377c29b9a & c8240eb4-b218-4139-a350-e143c9a8a186 & 14 & $\\dots$ \\\\\n",
       "\t3 & 6a09d092-6425-424b-9425-197ae69fca26 & d898bbc6-1f06-447a-a550-1a4011ff2ad6 & 8 & $\\dots$ \\\\\n",
       "\t4 & 8a4ff5cf-9c99-40ba-8fb2-aabab6e183e2 & fd1aa46b-68ea-4c5a-8357-37f88ec251b3 & 13 & $\\dots$ \\\\\n",
       "\t5 & 7e461309-caa5-4c8a-9787-bdeff351c59d & b85cda70-268f-46d4-a143-724dcfb79db3 & 14 & $\\dots$ \\\\\n",
       "\t6 & ccd56967-c6af-401e-8cfc-c7e4423767cd & f5a8b4c4-2447-4c4e-a8aa-0c6ffdee75ed & 17 & $\\dots$ \\\\\n",
       "\t7 & b2c6a7c8-5b88-4717-a0d9-acbafeca2251 & 885c7a91-0edc-4e2e-8795-18687cd2f999 & 7 & $\\dots$ \\\\\n",
       "\t8 & d775d4ce-6b47-4089-9f3f-14b35adcab70 & cdc6b1b6-ae20-434b-819e-78f6758d8ba5 & 17 & $\\dots$ \\\\\n",
       "\t9 & fcf940b7-1c4a-4ce0-ba4b-13549767000f & fe2593a1-ddf3-40fb-a367-952aaf83a920 & 14 & $\\dots$ \\\\\n",
       "\t10 & d15d4214-eaa6-42c9-998f-12ef7e93eb41 & c3525cf2-c3fd-456b-b35d-bc1b5fbee516 & 13 & $\\dots$ \\\\\n",
       "\t11 & cf9f6748-c280-49d1-b565-49f4e76521a0 & ba02f15b-078a-429c-8874-cde1b1274fc1 & 4 & $\\dots$ \\\\\n",
       "\t12 & ff61bfc2-be50-4af1-9481-73960daecba9 & de2c90f7-cf3d-4390-9231-0fc9d914c75b & 10 & $\\dots$ \\\\\n",
       "\t13 & 8759fdf9-e8a5-437e-823c-8ca664ed2cd7 & cef5eda9-2f32-4a73-ae2a-a7f024907419 & 20 & $\\dots$ \\\\\n",
       "\t14 & 7ef564be-3a7d-4fab-bfdc-1134fd19c82e & 0156af02-e391-4de1-8207-64f6d094c848 & 18 & $\\dots$ \\\\\n",
       "\t15 & d6f3da21-f66a-42ec-9d49-e34356fa315b & a4eebaf9-12c3-40c5-9081-0accc8f3fb7e & 14 & $\\dots$ \\\\\n",
       "\t16 & 4dbc7680-5109-4084-b42f-4e6eafe4f2aa & 61a480c6-7bd0-4c9e-9e42-9aed5bbe03ce & 21 & $\\dots$ \\\\\n",
       "\t17 & 2bd29b6a-c9d4-4873-8acd-00a38eb215f0 & 46237280-23a5-41ed-84cb-0cf2ce5a1a59 & 13 & $\\dots$ \\\\\n",
       "\t18 & 90fafd05-2cb3-4325-8aec-190d05463869 & 31f93f83-f18a-4816-8069-bfa938e7f2b3 & 14 & $\\dots$ \\\\\n",
       "\t19 & 24b33262-5a91-43c5-96ea-852ee5653472 & 2076181f-f531-4085-9b37-d0816e00cd13 & 18 & $\\dots$ \\\\\n",
       "\t20 & 49f841c2-de96-47b4-ad69-d085125fc253 & 2b0d3744-efd2-4742-834c-c6de4e1dc381 & 15 & $\\dots$ \\\\\n",
       "\t21 & 1385957b-4edf-4568-bdad-bb0a1a6ffb4b & 9735e7bd-ba76-4ce9-a035-b41881cdbe87 & 15 & $\\dots$ \\\\\n",
       "\t22 & d64543d8-6a35-4a87-be08-488f17d80ad4 & 6ac4251a-bc25-45cb-be2d-bceae6590241 & 6 & $\\dots$ \\\\\n",
       "\t23 & 57c912a6-a4d1-4db3-9780-e0c1a9d04504 & f1c75f6f-ddc1-4be9-8bc2-306f8363df7d & 20 & $\\dots$ \\\\\n",
       "\t24 & 77277a20-4228-4d3d-a2b6-433994a43284 & 0054b8a1-87e6-4b5c-89c0-751ea16d0789 & 17 & $\\dots$ \\\\\n",
       "\t25 & 30b51662-95a4-45cd-ae20-f6735c075e42 & 42996815-e64c-4c62-ba34-9c82e6f7ecf9 & 12 & $\\dots$ \\\\\n",
       "\t26 & 49041df1-698a-4551-9cf1-16e3f732fd94 & 9861118c-63fe-42f5-94f1-365fe3756ea8 & 11 & $\\dots$ \\\\\n",
       "\t27 & c3ea3c46-f8d1-4abe-8fb2-8fc8f86b4ef4 & d9d5f54b-da46-4fa2-a68f-bf966005bf75 & 18 & $\\dots$ \\\\\n",
       "\t28 & 380642a9-65d0-42b6-81f0-0ba1ffaa3932 & 7af34691-1d4f-4177-b3ad-d2ab3ca404ac & 16 & $\\dots$ \\\\\n",
       "\t29 & 5dd3741b-7d75-4449-99c9-85dbb4f59a28 & e52d102b-4010-4db4-af51-9efbadce7f58 & 5 & $\\dots$ \\\\\n",
       "\t30 & 3bd1c72b-927f-4bf2-aa9e-f2477c1eec7f & cfbc063f-ed88-48aa-a98d-126b76bce3e1 & 20 & $\\dots$ \\\\\n",
       "\t$\\dots$ & $\\dots$ & $\\dots$ & $\\dots$ &  \\\\\n",
       "\\end{tabular}\n"
      ],
      "text/plain": [
       "\u001b[1m18177×29 DataFrame\u001b[0m\n",
       "\u001b[1m   Row \u001b[0m│\u001b[1m PATIENT                           \u001b[0m\u001b[1m ENCOUNTER                         \u001b[0m\u001b[1m\u001b[0m ⋯\n",
       "\u001b[1m       \u001b[0m│\u001b[90m String                            \u001b[0m\u001b[90m String                            \u001b[0m\u001b[90m\u001b[0m ⋯\n",
       "───────┼────────────────────────────────────────────────────────────────────────\n",
       "     1 │ e1cab30e-e134-4b9b-95cf-79703aef…  c1262f94-2b8b-4318-9a1f-365d94db…  ⋯\n",
       "     2 │ a84d194b-8aa2-4ec4-a784-0c9377c2…  c8240eb4-b218-4139-a350-e143c9a8…\n",
       "     3 │ 6a09d092-6425-424b-9425-197ae69f…  d898bbc6-1f06-447a-a550-1a4011ff…\n",
       "     4 │ 8a4ff5cf-9c99-40ba-8fb2-aabab6e1…  fd1aa46b-68ea-4c5a-8357-37f88ec2…\n",
       "     5 │ 7e461309-caa5-4c8a-9787-bdeff351…  b85cda70-268f-46d4-a143-724dcfb7…  ⋯\n",
       "     6 │ ccd56967-c6af-401e-8cfc-c7e44237…  f5a8b4c4-2447-4c4e-a8aa-0c6ffdee…\n",
       "     7 │ b2c6a7c8-5b88-4717-a0d9-acbafeca…  885c7a91-0edc-4e2e-8795-18687cd2…\n",
       "     8 │ d775d4ce-6b47-4089-9f3f-14b35adc…  cdc6b1b6-ae20-434b-819e-78f6758d…\n",
       "     9 │ fcf940b7-1c4a-4ce0-ba4b-13549767…  fe2593a1-ddf3-40fb-a367-952aaf83…  ⋯\n",
       "    10 │ d15d4214-eaa6-42c9-998f-12ef7e93…  c3525cf2-c3fd-456b-b35d-bc1b5fbe…\n",
       "    11 │ cf9f6748-c280-49d1-b565-49f4e765…  ba02f15b-078a-429c-8874-cde1b127…\n",
       "   ⋮   │                 ⋮                                  ⋮                  ⋱\n",
       " 18168 │ 0cb1ac8b-25f5-4c4f-8db5-245cb2e6…  29ffbfb5-8d78-4b4b-b66e-22becc27…\n",
       " 18169 │ cc84aa94-d20d-442f-8915-0f4de9d8…  667be60a-90cf-4e3e-b6fc-bd0331a5…  ⋯\n",
       " 18170 │ 438e1c8f-ae63-4d2c-95c3-4c513746…  aac5069b-6af1-4c61-9ec6-878d99eb…\n",
       " 18171 │ 83b2fab6-8fd3-4e21-8f8d-a068c84d…  5b105724-a8e3-4b40-a59b-65122eac…\n",
       " 18172 │ 9221bd88-8a72-40f9-b1be-91213ecc…  f72c78b4-be41-4a0b-b6ea-3fcc4098…\n",
       " 18173 │ b873b003-5d23-4749-bd83-1be34ff6…  a630e690-84b1-4e00-ad36-3dfdf089…  ⋯\n",
       " 18174 │ 626e1b29-e2a7-4494-b40d-6168ff6d…  d2c59c30-5531-4f03-9e36-94d6c84a…\n",
       " 18175 │ 526ed2c4-6e73-4f35-ba98-6cf2adc4…  646b8dea-3a3c-4d8d-b40b-a47a213d…\n",
       " 18176 │ 1cfe1267-7bb0-40df-9459-9300e3cc…  59acf42b-88ce-4c58-8cc8-42b42546…\n",
       " 18177 │ 12d4e7cc-e86b-46c5-a696-ecd52b92…  d888cc7f-1217-4e02-8ef3-b82de698…  ⋯\n",
       "\u001b[36m                                               27 columns and 18156 rows omitted\u001b[0m"
      ]
     },
     "execution_count": 2,
     "metadata": {},
     "output_type": "execute_result"
    }
   ],
   "source": [
    "#Load main dataset into dataframe\n",
    "file_path = \"/gpfs/data/biol1555/projects2022/team04/data/inpatient_full_0427.csv\"\n",
    "\n",
    "data = CSV.File(file_path; header = 1, delim = \"|\") |> DataFrame"
   ]
  },
  {
   "cell_type": "code",
   "execution_count": 20,
   "metadata": {},
   "outputs": [
    {
     "name": "stdout",
     "output_type": "stream",
     "text": [
      "[\"PATIENT\", \"ENCOUNTER\", \"DURATION\", \"ICU\", \"OUTCOME\", \"RACE\", \"ETHNICITY\", \"GENDER\", \"AGE\", \"BODY_WEIGHT\", \"DIASTOLIC_BP\", \"SYSTOLIC_BP\", \"HEART_RATE\", \"RESPIRATORY_RATE\", \"O2_SAT\", \"HEMATOCRIT\", \"SODIUM\", \"POTASSIUM\", \"CALCIUM\", \"CHLORIDE\", \"CO2\", \"UREA_NITROGEN\", \"GLUCOSE\", \"SERUM_FERRITIN\", \"CARDIAC_TROPONIN\", \"LACTATE_DEHYDROGENASE\", \"D_DIMER\", \"HYPERTENSION\", \"DIABETES\"]"
     ]
    }
   ],
   "source": [
    "print(names(data))"
   ]
  },
  {
   "cell_type": "code",
   "execution_count": 56,
   "metadata": {},
   "outputs": [
    {
     "data": {
      "text/plain": [
       "2-element Vector{Vector{Float64}}:\n",
       " [116.4, 74.9, 74.2, 111.3, 115.2, 84.2, 105.4, 112.3, 116.8, 117.2  …  84.8, 86.8, 76.3, 64.2, 65.8, 65.7, 65.2, 86.1, 68.4, 80.9]\n",
       " [101.0, 84.5, 98.1, 66.3, 76.8, 66.7, 65.5, 67.1, 97.6, 117.2  …  76.1, 75.8, 93.2, 88.0, 78.2, 82.6, 88.1, 81.4, 98.0, 75.4]"
      ]
     },
     "execution_count": 56,
     "metadata": {},
     "output_type": "execute_result"
    }
   ],
   "source": [
    "#Create two DFs that contain pos and neg patients\n",
    "pos = data[in(1).(data.OUTCOME),:]\n",
    "neg = data[in(0).(data.OUTCOME),:]\n",
    "\n",
    "#Pull out the single lab value to be plotted\n",
    "plot_data = [neg[!,\"GLUCOSE\"],pos[!,\"GLUCOSE\"]]"
   ]
  },
  {
   "cell_type": "code",
   "execution_count": 52,
   "metadata": {
    "scrolled": false
   },
   "outputs": [
    {
     "data": {
      "image/png": "[encoded data removed]",
      "text/plain": [
       "Figure(PyObject <Figure size 400x600 with 1 Axes>)"
      ]
     },
     "metadata": {},
     "output_type": "display_data"
    }
   ],
   "source": [
    "fig, axs = plt.subplots()\n",
    "\n",
    "fig.set_size_inches(4, 6)\n",
    "\n",
    "axs.boxplot(plot_data,labels = [\"Short LOS\\n (<14 days)\",\"Long LOS\\n (>14 days)\"])\n",
    "axs.set_ylabel(\"Glucose (mg/dL)\")\n",
    "fig.tight_layout(pad=2)\n"
   ]
  },
  {
   "cell_type": "code",
   "execution_count": 54,
   "metadata": {},
   "outputs": [],
   "source": [
    "fig.savefig(\"glucose_boxplot.pdf\",dpi=300)"
   ]
  },
  {
   "cell_type": "code",
   "execution_count": 55,
   "metadata": {},
   "outputs": [
    {
     "data": {
      "text/plain": [
       "Two sample t-test (equal variance)\n",
       "----------------------------------\n",
       "Population details:\n",
       "    parameter of interest:   Mean difference\n",
       "    value under h_0:         0\n",
       "    point estimate:          0.206003\n",
       "    95% confidence interval: (-0.1953, 0.6073)\n",
       "\n",
       "Test summary:\n",
       "    outcome with 95% confidence: fail to reject h_0\n",
       "    two-sided p-value:           0.3143\n",
       "\n",
       "Details:\n",
       "    number of observations:   [9363,8814]\n",
       "    t-statistic:              1.0062259278532422\n",
       "    degrees of freedom:       18175\n",
       "    empirical standard error: 0.20472789578659692\n"
      ]
     },
     "execution_count": 55,
     "metadata": {},
     "output_type": "execute_result"
    }
   ],
   "source": [
    "#Compare means of physiological variables by LOS using t-test\n",
    "EqualVarianceTTest(neg[!,\"GLUCOSE\"],pos[!,\"GLUCOSE\"])"
   ]
  },
  {
   "cell_type": "code",
   "execution_count": 57,
   "metadata": {
    "scrolled": true
   },
   "outputs": [
    {
     "data": {
      "image/png": "[encoded data removed]",
      "text/plain": [
       "Figure(PyObject <Figure size 640x480 with 1 Axes>)"
      ]
     },
     "metadata": {},
     "output_type": "display_data"
    },
    {
     "data": {
      "text/plain": [
       "(-1.1050771889299855, 1.1050771869667702, -1.1048464070722326, 1.1002307895493235)"
      ]
     },
     "execution_count": 57,
     "metadata": {},
     "output_type": "execute_result"
    }
   ],
   "source": [
    "#Numbers for calculating percentages\n",
    "total = 18177 #all hospitalized\n",
    "both = 2912\n",
    "hosp = 14500\n",
    "other = 765\n",
    "\n",
    "label = [\"Separate ICU Visit\",\"Only Hospitalized\",\"Hospitalized -> ICU\"]\n",
    "sizes = [.04,.80,.16]\n",
    "#explode = [0,0.1,0]\n",
    "cols = [\"#D99AC5\",\"#5386E4\",\"#87B38D\"]\n",
    "\n",
    "fig,ax1 = plt.subplots()\n",
    "\n",
    "\n",
    "ax1.pie(sizes,labels=label,shadow=\"FALSE\", startangle=90,colors=cols)\n",
    "ax1.axis(\"equal\")\n",
    "\n",
    "#plt.show()\n",
    "\n"
   ]
  },
  {
   "cell_type": "code",
   "execution_count": 136,
   "metadata": {},
   "outputs": [],
   "source": [
    "fig.savefig(\"pt_transfers_pie.pdf\",dpi=300)"
   ]
  },
  {
   "cell_type": "code",
   "execution_count": 58,
   "metadata": {
    "scrolled": true
   },
   "outputs": [
    {
     "data": {
      "image/png": "[encoded data removed]",
      "text/plain": [
       "Figure(PyObject <Figure size 640x480 with 1 Axes>)"
      ]
     },
     "metadata": {},
     "output_type": "display_data"
    }
   ],
   "source": [
    "#Calculate durations for men and women\n",
    "plot_data = combine(groupby(data, [:GENDER, :DURATION]), nrow => :count)\n",
    "\n",
    "male_counts = plot_data[1:22,:]\n",
    "female_counts = plot_data[23:44,:]\n",
    "\n",
    "fig,ax1 = plt.subplots()\n",
    "\n",
    "loc = collect(range(1,22,step=1))\n",
    "width = .35\n",
    " \n",
    "ax1.bar(loc .- width/2,male_counts[!,\"count\"],width,label=\"MALE\",color=\"#235789\")\n",
    "ax1.bar(loc .+ width/2,female_counts[!,\"count\"],width,label=\"FEMALE\",color=\"#17BEBB\")\n",
    "ax1.set_ylabel(\"Count\")\n",
    "ax1.set_xlabel(\"Duration of Hospital Stay (Days)\")\n",
    "\n",
    "ax1.legend()\n",
    "\n",
    "fig.tight_layout()\n",
    "\n",
    "#ax1.bar(male_counts[!,\"DURATION\"],male_counts[!,\"count\"],align = \"center\")\n",
    "#ax1.bar(female_counts[!,\"DURATION\"],female_counts[!,\"count\"],align = \"center\",alpha=.5)\n",
    "\n"
   ]
  },
  {
   "cell_type": "code",
   "execution_count": 130,
   "metadata": {},
   "outputs": [],
   "source": [
    "fig.savefig(\"sex_distribution.pdf\",dpi=300)"
   ]
  },
  {
   "cell_type": "code",
   "execution_count": 59,
   "metadata": {
    "scrolled": true
   },
   "outputs": [
    {
     "name": "stderr",
     "output_type": "stream",
     "text": [
      "┌ Warning: This test is inaccurate with ties\n",
      "└ @ HypothesisTests /users/zlevin2/.julia/packages/HypothesisTests/Dvf6v/src/kolmogorov_smirnov.jl:167\n"
     ]
    },
    {
     "data": {
      "text/plain": [
       "Approximate two sample Kolmogorov-Smirnov test\n",
       "----------------------------------------------\n",
       "Population details:\n",
       "    parameter of interest:   Supremum of CDF differences\n",
       "    value under h_0:         0.0\n",
       "    point estimate:          0.181818\n",
       "\n",
       "Test summary:\n",
       "    outcome with 95% confidence: fail to reject h_0\n",
       "    two-sided p-value:           0.8603\n",
       "\n",
       "Details:\n",
       "    number of observations:   [22,22]\n",
       "    KS-statistic:              0.6030226891555273\n"
      ]
     },
     "execution_count": 59,
     "metadata": {},
     "output_type": "execute_result"
    }
   ],
   "source": [
    "ApproximateTwoSampleKSTest(male_counts[!,\"count\"],female_counts[!,\"count\"])"
   ]
  },
  {
   "cell_type": "code",
   "execution_count": 60,
   "metadata": {},
   "outputs": [],
   "source": [
    "plt.close(\"all\")"
   ]
  },
  {
   "cell_type": "code",
   "execution_count": 61,
   "metadata": {},
   "outputs": [
    {
     "data": {
      "text/html": [
       "<div class=\"data-frame\"><p>97 rows × 3 columns</p><table class=\"data-frame\"><thead><tr><th></th><th>RACE</th><th>DURATION</th><th>count</th></tr><tr><th></th><th title=\"String7\">String7</th><th title=\"Int64\">Int64</th><th title=\"Int64\">Int64</th></tr></thead><tbody><tr><th>1</th><td>white</td><td>1</td><td>38</td></tr><tr><th>2</th><td>white</td><td>2</td><td>37</td></tr><tr><th>3</th><td>white</td><td>3</td><td>56</td></tr><tr><th>4</th><td>white</td><td>4</td><td>143</td></tr><tr><th>5</th><td>white</td><td>5</td><td>238</td></tr><tr><th>6</th><td>white</td><td>6</td><td>246</td></tr><tr><th>7</th><td>white</td><td>7</td><td>247</td></tr><tr><th>8</th><td>white</td><td>8</td><td>249</td></tr><tr><th>9</th><td>white</td><td>9</td><td>317</td></tr><tr><th>10</th><td>white</td><td>10</td><td>496</td></tr><tr><th>11</th><td>white</td><td>11</td><td>742</td></tr><tr><th>12</th><td>white</td><td>12</td><td>1178</td></tr><tr><th>13</th><td>white</td><td>13</td><td>1582</td></tr><tr><th>14</th><td>white</td><td>14</td><td>2232</td></tr><tr><th>15</th><td>white</td><td>15</td><td>1449</td></tr><tr><th>16</th><td>white</td><td>16</td><td>1243</td></tr><tr><th>17</th><td>white</td><td>17</td><td>1152</td></tr><tr><th>18</th><td>white</td><td>18</td><td>1231</td></tr><tr><th>19</th><td>white</td><td>19</td><td>1062</td></tr><tr><th>20</th><td>white</td><td>20</td><td>748</td></tr><tr><th>21</th><td>white</td><td>21</td><td>444</td></tr><tr><th>22</th><td>white</td><td>22</td><td>75</td></tr><tr><th>23</th><td>black</td><td>1</td><td>1</td></tr><tr><th>24</th><td>black</td><td>2</td><td>6</td></tr><tr><th>25</th><td>black</td><td>3</td><td>6</td></tr><tr><th>26</th><td>black</td><td>4</td><td>20</td></tr><tr><th>27</th><td>black</td><td>5</td><td>21</td></tr><tr><th>28</th><td>black</td><td>6</td><td>20</td></tr><tr><th>29</th><td>black</td><td>7</td><td>22</td></tr><tr><th>30</th><td>black</td><td>8</td><td>22</td></tr><tr><th>&vellip;</th><td>&vellip;</td><td>&vellip;</td><td>&vellip;</td></tr></tbody></table></div>"
      ],
      "text/latex": [
       "\\begin{tabular}{r|ccc}\n",
       "\t& RACE & DURATION & count\\\\\n",
       "\t\\hline\n",
       "\t& String7 & Int64 & Int64\\\\\n",
       "\t\\hline\n",
       "\t1 & white & 1 & 38 \\\\\n",
       "\t2 & white & 2 & 37 \\\\\n",
       "\t3 & white & 3 & 56 \\\\\n",
       "\t4 & white & 4 & 143 \\\\\n",
       "\t5 & white & 5 & 238 \\\\\n",
       "\t6 & white & 6 & 246 \\\\\n",
       "\t7 & white & 7 & 247 \\\\\n",
       "\t8 & white & 8 & 249 \\\\\n",
       "\t9 & white & 9 & 317 \\\\\n",
       "\t10 & white & 10 & 496 \\\\\n",
       "\t11 & white & 11 & 742 \\\\\n",
       "\t12 & white & 12 & 1178 \\\\\n",
       "\t13 & white & 13 & 1582 \\\\\n",
       "\t14 & white & 14 & 2232 \\\\\n",
       "\t15 & white & 15 & 1449 \\\\\n",
       "\t16 & white & 16 & 1243 \\\\\n",
       "\t17 & white & 17 & 1152 \\\\\n",
       "\t18 & white & 18 & 1231 \\\\\n",
       "\t19 & white & 19 & 1062 \\\\\n",
       "\t20 & white & 20 & 748 \\\\\n",
       "\t21 & white & 21 & 444 \\\\\n",
       "\t22 & white & 22 & 75 \\\\\n",
       "\t23 & black & 1 & 1 \\\\\n",
       "\t24 & black & 2 & 6 \\\\\n",
       "\t25 & black & 3 & 6 \\\\\n",
       "\t26 & black & 4 & 20 \\\\\n",
       "\t27 & black & 5 & 21 \\\\\n",
       "\t28 & black & 6 & 20 \\\\\n",
       "\t29 & black & 7 & 22 \\\\\n",
       "\t30 & black & 8 & 22 \\\\\n",
       "\t$\\dots$ & $\\dots$ & $\\dots$ & $\\dots$ \\\\\n",
       "\\end{tabular}\n"
      ],
      "text/plain": [
       "\u001b[1m97×3 DataFrame\u001b[0m\n",
       "\u001b[1m Row \u001b[0m│\u001b[1m RACE    \u001b[0m\u001b[1m DURATION \u001b[0m\u001b[1m count \u001b[0m\n",
       "\u001b[1m     \u001b[0m│\u001b[90m String7 \u001b[0m\u001b[90m Int64    \u001b[0m\u001b[90m Int64 \u001b[0m\n",
       "─────┼──────────────────────────\n",
       "   1 │ white           1     38\n",
       "   2 │ white           2     37\n",
       "   3 │ white           3     56\n",
       "   4 │ white           4    143\n",
       "   5 │ white           5    238\n",
       "   6 │ white           6    246\n",
       "   7 │ white           7    247\n",
       "   8 │ white           8    249\n",
       "   9 │ white           9    317\n",
       "  10 │ white          10    496\n",
       "  11 │ white          11    742\n",
       "  ⋮  │    ⋮        ⋮        ⋮\n",
       "  88 │ other          10      1\n",
       "  89 │ other          11      1\n",
       "  90 │ other          12      2\n",
       "  91 │ other          13      2\n",
       "  92 │ other          14      1\n",
       "  93 │ other          15      2\n",
       "  94 │ other          16      1\n",
       "  95 │ other          17      1\n",
       "  96 │ other          18      2\n",
       "  97 │ other          20      1\n",
       "\u001b[36m                 76 rows omitted\u001b[0m"
      ]
     },
     "execution_count": 61,
     "metadata": {},
     "output_type": "execute_result"
    }
   ],
   "source": [
    "#Group patients by race and calculate distribution of LOS\n",
    "race_data = combine(groupby(data, [:RACE, :DURATION]), nrow => :count)\n",
    "\n",
    "#print(race_data[!,\"RACE\"])\n"
   ]
  },
  {
   "cell_type": "code",
   "execution_count": 63,
   "metadata": {},
   "outputs": [
    {
     "data": {
      "text/plain": [
       "get_percentages (generic function with 1 method)"
      ]
     },
     "execution_count": 63,
     "metadata": {},
     "output_type": "execute_result"
    }
   ],
   "source": [
    "#Add 0s to any race if they had no patients for a certain duration\n",
    "#This is necessary for plotting\n",
    "function add_missing_days(df)\n",
    "    race = df[!,:RACE][1]\n",
    "    for day in collect(range(1,22,step=1))\n",
    "        if !(day in df[!, :DURATION])\n",
    "            row = DataFrame(RACE = race, DURATION = day, count = 0)\n",
    "            append!(df,row)\n",
    "        end\n",
    "    end\n",
    "    return sort!(df,[:DURATION])\n",
    "end\n",
    "\n",
    "#Ugly and redundant function to calculate racial percentages at each hosp. duration\n",
    "function get_percentages(white,black,asian,native,other)\n",
    "    white_percentages = zeros(0)\n",
    "    black_percentages = zeros(0)\n",
    "    asian_percentages = zeros(0)\n",
    "    native_percentages = zeros(0)\n",
    "    other_percentages = zeros(0)\n",
    "    \n",
    "    for day in collect(range(1,22,step=1))\n",
    "        total = white[white[!,:DURATION] .== day,:count] + \n",
    "        black[black[!,:DURATION] .== day,:count] +\n",
    "        asian[asian[!,:DURATION] .== day,:count] +\n",
    "        native[native[!,:DURATION] .== day,:count] +\n",
    "        other[other[!,:DURATION] .== day,:count]\n",
    "        \n",
    "        white_percent = (white[white[!,:DURATION] .== day,:count] / total)\n",
    "        black_percent = (black[black[!,:DURATION] .== day,:count] / total)\n",
    "        \n",
    "        asian_percent = (asian[asian[!,:DURATION] .== day,:count] / total)\n",
    "        native_percent = (native[native[!,:DURATION] .== day,:count] / total)\n",
    "        other_percent = (other[other[!,:DURATION] .== day,:count] / total)\n",
    "        \n",
    "        append!(white_percentages,white_percent)\n",
    "        append!(black_percentages,black_percent)\n",
    "        append!(asian_percentages,asian_percent)\n",
    "        append!(native_percentages,native_percent)\n",
    "        append!(other_percentages,other_percent)\n",
    "    end\n",
    "    perc = DataFrame(white = white_percentages,\n",
    "        black = black_percentages,\n",
    "    asian = asian_percentages,\n",
    "    native = native_percentages,\n",
    "    other = other_percentages)\n",
    "    return(perc)\n",
    "end"
   ]
  },
  {
   "cell_type": "code",
   "execution_count": 64,
   "metadata": {},
   "outputs": [
    {
     "data": {
      "text/html": [
       "<div class=\"data-frame\"><p>22 rows × 3 columns</p><table class=\"data-frame\"><thead><tr><th></th><th>RACE</th><th>DURATION</th><th>count</th></tr><tr><th></th><th title=\"String7\">String7</th><th title=\"Int64\">Int64</th><th title=\"Int64\">Int64</th></tr></thead><tbody><tr><th>1</th><td>other</td><td>1</td><td>0</td></tr><tr><th>2</th><td>other</td><td>2</td><td>0</td></tr><tr><th>3</th><td>other</td><td>3</td><td>0</td></tr><tr><th>4</th><td>other</td><td>4</td><td>1</td></tr><tr><th>5</th><td>other</td><td>5</td><td>2</td></tr><tr><th>6</th><td>other</td><td>6</td><td>1</td></tr><tr><th>7</th><td>other</td><td>7</td><td>0</td></tr><tr><th>8</th><td>other</td><td>8</td><td>2</td></tr><tr><th>9</th><td>other</td><td>9</td><td>0</td></tr><tr><th>10</th><td>other</td><td>10</td><td>1</td></tr><tr><th>11</th><td>other</td><td>11</td><td>1</td></tr><tr><th>12</th><td>other</td><td>12</td><td>2</td></tr><tr><th>13</th><td>other</td><td>13</td><td>2</td></tr><tr><th>14</th><td>other</td><td>14</td><td>1</td></tr><tr><th>15</th><td>other</td><td>15</td><td>2</td></tr><tr><th>16</th><td>other</td><td>16</td><td>1</td></tr><tr><th>17</th><td>other</td><td>17</td><td>1</td></tr><tr><th>18</th><td>other</td><td>18</td><td>2</td></tr><tr><th>19</th><td>other</td><td>19</td><td>0</td></tr><tr><th>20</th><td>other</td><td>20</td><td>1</td></tr><tr><th>21</th><td>other</td><td>21</td><td>0</td></tr><tr><th>22</th><td>other</td><td>22</td><td>0</td></tr></tbody></table></div>"
      ],
      "text/latex": [
       "\\begin{tabular}{r|ccc}\n",
       "\t& RACE & DURATION & count\\\\\n",
       "\t\\hline\n",
       "\t& String7 & Int64 & Int64\\\\\n",
       "\t\\hline\n",
       "\t1 & other & 1 & 0 \\\\\n",
       "\t2 & other & 2 & 0 \\\\\n",
       "\t3 & other & 3 & 0 \\\\\n",
       "\t4 & other & 4 & 1 \\\\\n",
       "\t5 & other & 5 & 2 \\\\\n",
       "\t6 & other & 6 & 1 \\\\\n",
       "\t7 & other & 7 & 0 \\\\\n",
       "\t8 & other & 8 & 2 \\\\\n",
       "\t9 & other & 9 & 0 \\\\\n",
       "\t10 & other & 10 & 1 \\\\\n",
       "\t11 & other & 11 & 1 \\\\\n",
       "\t12 & other & 12 & 2 \\\\\n",
       "\t13 & other & 13 & 2 \\\\\n",
       "\t14 & other & 14 & 1 \\\\\n",
       "\t15 & other & 15 & 2 \\\\\n",
       "\t16 & other & 16 & 1 \\\\\n",
       "\t17 & other & 17 & 1 \\\\\n",
       "\t18 & other & 18 & 2 \\\\\n",
       "\t19 & other & 19 & 0 \\\\\n",
       "\t20 & other & 20 & 1 \\\\\n",
       "\t21 & other & 21 & 0 \\\\\n",
       "\t22 & other & 22 & 0 \\\\\n",
       "\\end{tabular}\n"
      ],
      "text/plain": [
       "\u001b[1m22×3 DataFrame\u001b[0m\n",
       "\u001b[1m Row \u001b[0m│\u001b[1m RACE    \u001b[0m\u001b[1m DURATION \u001b[0m\u001b[1m count \u001b[0m\n",
       "\u001b[1m     \u001b[0m│\u001b[90m String7 \u001b[0m\u001b[90m Int64    \u001b[0m\u001b[90m Int64 \u001b[0m\n",
       "─────┼──────────────────────────\n",
       "   1 │ other           1      0\n",
       "   2 │ other           2      0\n",
       "   3 │ other           3      0\n",
       "   4 │ other           4      1\n",
       "   5 │ other           5      2\n",
       "   6 │ other           6      1\n",
       "   7 │ other           7      0\n",
       "   8 │ other           8      2\n",
       "   9 │ other           9      0\n",
       "  10 │ other          10      1\n",
       "  11 │ other          11      1\n",
       "  12 │ other          12      2\n",
       "  13 │ other          13      2\n",
       "  14 │ other          14      1\n",
       "  15 │ other          15      2\n",
       "  16 │ other          16      1\n",
       "  17 │ other          17      1\n",
       "  18 │ other          18      2\n",
       "  19 │ other          19      0\n",
       "  20 │ other          20      1\n",
       "  21 │ other          21      0\n",
       "  22 │ other          22      0"
      ]
     },
     "execution_count": 64,
     "metadata": {},
     "output_type": "execute_result"
    }
   ],
   "source": [
    "native_counts = add_missing_days(race_data[race_data[!,:RACE] .== \"native\",:])\n",
    "white_counts = race_data[race_data[!,:RACE] .== \"white\",:]\n",
    "black_counts = race_data[race_data[!,:RACE] .== \"black\",:]\n",
    "asian_counts = add_missing_days(race_data[race_data[!,:RACE] .== \"asian\",:])\n",
    "other_counts = add_missing_days(race_data[race_data[!,:RACE] .== \"other\",:])"
   ]
  },
  {
   "cell_type": "code",
   "execution_count": 66,
   "metadata": {
    "scrolled": true
   },
   "outputs": [
    {
     "data": {
      "text/html": [
       "<div class=\"data-frame\"><p>22 rows × 5 columns</p><table class=\"data-frame\"><thead><tr><th></th><th>white</th><th>black</th><th>asian</th><th>native</th><th>other</th></tr><tr><th></th><th title=\"Float64\">Float64</th><th title=\"Float64\">Float64</th><th title=\"Float64\">Float64</th><th title=\"Float64\">Float64</th><th title=\"Float64\">Float64</th></tr></thead><tbody><tr><th>1</th><td>0.926829</td><td>0.0243902</td><td>0.0243902</td><td>0.0243902</td><td>0.0</td></tr><tr><th>2</th><td>0.860465</td><td>0.139535</td><td>0.0</td><td>0.0</td><td>0.0</td></tr><tr><th>3</th><td>0.756757</td><td>0.0810811</td><td>0.162162</td><td>0.0</td><td>0.0</td></tr><tr><th>4</th><td>0.80791</td><td>0.112994</td><td>0.0734463</td><td>0.0</td><td>0.00564972</td></tr><tr><th>5</th><td>0.838028</td><td>0.0739437</td><td>0.0774648</td><td>0.00352113</td><td>0.00704225</td></tr><tr><th>6</th><td>0.863158</td><td>0.0701754</td><td>0.0596491</td><td>0.00350877</td><td>0.00350877</td></tr><tr><th>7</th><td>0.843003</td><td>0.0750853</td><td>0.0716724</td><td>0.0102389</td><td>0.0</td></tr><tr><th>8</th><td>0.838384</td><td>0.0740741</td><td>0.0774411</td><td>0.003367</td><td>0.00673401</td></tr><tr><th>9</th><td>0.81701</td><td>0.0902062</td><td>0.0850515</td><td>0.00773196</td><td>0.0</td></tr><tr><th>10</th><td>0.835017</td><td>0.0791246</td><td>0.0757576</td><td>0.00841751</td><td>0.0016835</td></tr><tr><th>11</th><td>0.818082</td><td>0.100331</td><td>0.0749724</td><td>0.00551268</td><td>0.00110254</td></tr><tr><th>12</th><td>0.837242</td><td>0.0824449</td><td>0.0732054</td><td>0.00568586</td><td>0.00142146</td></tr><tr><th>13</th><td>0.833509</td><td>0.0842993</td><td>0.0763962</td><td>0.00474183</td><td>0.00105374</td></tr><tr><th>14</th><td>0.834393</td><td>0.091215</td><td>0.0691589</td><td>0.00485981</td><td>0.000373832</td></tr><tr><th>15</th><td>0.839027</td><td>0.0885929</td><td>0.0689056</td><td>0.00231616</td><td>0.00115808</td></tr><tr><th>16</th><td>0.842712</td><td>0.0861017</td><td>0.0664407</td><td>0.0040678</td><td>0.000677966</td></tr><tr><th>17</th><td>0.848931</td><td>0.0773766</td><td>0.0692704</td><td>0.0036846</td><td>0.00073692</td></tr><tr><th>18</th><td>0.833446</td><td>0.0819228</td><td>0.0798917</td><td>0.00338524</td><td>0.0013541</td></tr><tr><th>19</th><td>0.852327</td><td>0.0794543</td><td>0.0666132</td><td>0.00160514</td><td>0.0</td></tr><tr><th>20</th><td>0.831111</td><td>0.0855556</td><td>0.0744444</td><td>0.00777778</td><td>0.00111111</td></tr><tr><th>21</th><td>0.822222</td><td>0.101852</td><td>0.0722222</td><td>0.0037037</td><td>0.0</td></tr><tr><th>22</th><td>0.815217</td><td>0.0869565</td><td>0.0978261</td><td>0.0</td><td>0.0</td></tr></tbody></table></div>"
      ],
      "text/latex": [
       "\\begin{tabular}{r|ccccc}\n",
       "\t& white & black & asian & native & other\\\\\n",
       "\t\\hline\n",
       "\t& Float64 & Float64 & Float64 & Float64 & Float64\\\\\n",
       "\t\\hline\n",
       "\t1 & 0.926829 & 0.0243902 & 0.0243902 & 0.0243902 & 0.0 \\\\\n",
       "\t2 & 0.860465 & 0.139535 & 0.0 & 0.0 & 0.0 \\\\\n",
       "\t3 & 0.756757 & 0.0810811 & 0.162162 & 0.0 & 0.0 \\\\\n",
       "\t4 & 0.80791 & 0.112994 & 0.0734463 & 0.0 & 0.00564972 \\\\\n",
       "\t5 & 0.838028 & 0.0739437 & 0.0774648 & 0.00352113 & 0.00704225 \\\\\n",
       "\t6 & 0.863158 & 0.0701754 & 0.0596491 & 0.00350877 & 0.00350877 \\\\\n",
       "\t7 & 0.843003 & 0.0750853 & 0.0716724 & 0.0102389 & 0.0 \\\\\n",
       "\t8 & 0.838384 & 0.0740741 & 0.0774411 & 0.003367 & 0.00673401 \\\\\n",
       "\t9 & 0.81701 & 0.0902062 & 0.0850515 & 0.00773196 & 0.0 \\\\\n",
       "\t10 & 0.835017 & 0.0791246 & 0.0757576 & 0.00841751 & 0.0016835 \\\\\n",
       "\t11 & 0.818082 & 0.100331 & 0.0749724 & 0.00551268 & 0.00110254 \\\\\n",
       "\t12 & 0.837242 & 0.0824449 & 0.0732054 & 0.00568586 & 0.00142146 \\\\\n",
       "\t13 & 0.833509 & 0.0842993 & 0.0763962 & 0.00474183 & 0.00105374 \\\\\n",
       "\t14 & 0.834393 & 0.091215 & 0.0691589 & 0.00485981 & 0.000373832 \\\\\n",
       "\t15 & 0.839027 & 0.0885929 & 0.0689056 & 0.00231616 & 0.00115808 \\\\\n",
       "\t16 & 0.842712 & 0.0861017 & 0.0664407 & 0.0040678 & 0.000677966 \\\\\n",
       "\t17 & 0.848931 & 0.0773766 & 0.0692704 & 0.0036846 & 0.00073692 \\\\\n",
       "\t18 & 0.833446 & 0.0819228 & 0.0798917 & 0.00338524 & 0.0013541 \\\\\n",
       "\t19 & 0.852327 & 0.0794543 & 0.0666132 & 0.00160514 & 0.0 \\\\\n",
       "\t20 & 0.831111 & 0.0855556 & 0.0744444 & 0.00777778 & 0.00111111 \\\\\n",
       "\t21 & 0.822222 & 0.101852 & 0.0722222 & 0.0037037 & 0.0 \\\\\n",
       "\t22 & 0.815217 & 0.0869565 & 0.0978261 & 0.0 & 0.0 \\\\\n",
       "\\end{tabular}\n"
      ],
      "text/plain": [
       "\u001b[1m22×5 DataFrame\u001b[0m\n",
       "\u001b[1m Row \u001b[0m│\u001b[1m white    \u001b[0m\u001b[1m black     \u001b[0m\u001b[1m asian     \u001b[0m\u001b[1m native     \u001b[0m\u001b[1m other       \u001b[0m\n",
       "\u001b[1m     \u001b[0m│\u001b[90m Float64  \u001b[0m\u001b[90m Float64   \u001b[0m\u001b[90m Float64   \u001b[0m\u001b[90m Float64    \u001b[0m\u001b[90m Float64     \u001b[0m\n",
       "─────┼─────────────────────────────────────────────────────────\n",
       "   1 │ 0.926829  0.0243902  0.0243902  0.0243902   0.0\n",
       "   2 │ 0.860465  0.139535   0.0        0.0         0.0\n",
       "   3 │ 0.756757  0.0810811  0.162162   0.0         0.0\n",
       "   4 │ 0.80791   0.112994   0.0734463  0.0         0.00564972\n",
       "   5 │ 0.838028  0.0739437  0.0774648  0.00352113  0.00704225\n",
       "   6 │ 0.863158  0.0701754  0.0596491  0.00350877  0.00350877\n",
       "   7 │ 0.843003  0.0750853  0.0716724  0.0102389   0.0\n",
       "   8 │ 0.838384  0.0740741  0.0774411  0.003367    0.00673401\n",
       "   9 │ 0.81701   0.0902062  0.0850515  0.00773196  0.0\n",
       "  10 │ 0.835017  0.0791246  0.0757576  0.00841751  0.0016835\n",
       "  11 │ 0.818082  0.100331   0.0749724  0.00551268  0.00110254\n",
       "  12 │ 0.837242  0.0824449  0.0732054  0.00568586  0.00142146\n",
       "  13 │ 0.833509  0.0842993  0.0763962  0.00474183  0.00105374\n",
       "  14 │ 0.834393  0.091215   0.0691589  0.00485981  0.000373832\n",
       "  15 │ 0.839027  0.0885929  0.0689056  0.00231616  0.00115808\n",
       "  16 │ 0.842712  0.0861017  0.0664407  0.0040678   0.000677966\n",
       "  17 │ 0.848931  0.0773766  0.0692704  0.0036846   0.00073692\n",
       "  18 │ 0.833446  0.0819228  0.0798917  0.00338524  0.0013541\n",
       "  19 │ 0.852327  0.0794543  0.0666132  0.00160514  0.0\n",
       "  20 │ 0.831111  0.0855556  0.0744444  0.00777778  0.00111111\n",
       "  21 │ 0.822222  0.101852   0.0722222  0.0037037   0.0\n",
       "  22 │ 0.815217  0.0869565  0.0978261  0.0         0.0"
      ]
     },
     "execution_count": 66,
     "metadata": {},
     "output_type": "execute_result"
    }
   ],
   "source": [
    "percs = get_percentages(white_counts,black_counts,asian_counts,native_counts,other_counts)"
   ]
  },
  {
   "cell_type": "code",
   "execution_count": 67,
   "metadata": {
    "scrolled": false
   },
   "outputs": [
    {
     "data": {
      "image/png": "[encoded data removed]",
      "text/plain": [
       "Figure(PyObject <Figure size 640x480 with 1 Axes>)"
      ]
     },
     "metadata": {},
     "output_type": "display_data"
    }
   ],
   "source": [
    "fig,ax1 = plt.subplots()\n",
    "\n",
    "loc = collect(range(1,22,step=1))\n",
    "width = .75\n",
    "\n",
    "\"\"\" \n",
    "ax1.bar(loc .- .3,white_counts[!,\"count\"],width,label=\"white\")\n",
    "ax1.bar(loc .- .15,black_counts[!,\"count\"],width,label=\"black\")\n",
    "ax1.bar(loc,asian_counts[!,\"count\"],width,label=\"asian\")\n",
    "ax1.bar(loc .+ .15,native_counts[!,\"count\"],width,label=\"native\")\n",
    "ax1.bar(loc .+ .3,other_counts[!,\"count\"],width,label=\"other\")\"\"\"\n",
    "\n",
    "a = percs[!,\"white\"] + percs[!,\"black\"]\n",
    "b = percs[!,\"white\"] + percs[!,\"black\"] + percs[!,\"asian\"]\n",
    "c = percs[!,\"white\"] + percs[!,\"black\"] + percs[!,\"asian\"] + percs[!,\"native\"]\n",
    "ax1.bar(loc,percs[!,\"white\"],width,label=\"white\",color=\"#38AECC\")\n",
    "ax1.bar(loc,percs[!,\"black\"],width,label=\"black\",bottom = percs[!,\"white\"],color=\"#7EA16B\")\n",
    "ax1.bar(loc,percs[!,\"asian\"],width,label=\"asian\",bottom=a,color=\"#6B5CA5\")\n",
    "ax1.bar(loc,percs[!,\"native\"],width,label=\"native\",bottom=b,color=\"#14342B\")\n",
    "ax1.bar(loc,percs[!,\"other\"],width,label=\"other\",bottom=c,color=\"#A5243D\")\n",
    "\n",
    "\n",
    "#ax1.bar(loc .+ width/2,female_counts[!,\"count\"],width,label=\"FEMALE\")\n",
    "ax1.set_ylabel(\"Percent\")\n",
    "ax1.set_xlabel(\"Duration of Hospital Stay (Days)\")\n",
    "\n",
    "ax1.legend()\n",
    "\n",
    "fig.tight_layout()\n",
    "\n",
    "#plt.show()"
   ]
  },
  {
   "cell_type": "code",
   "execution_count": 126,
   "metadata": {},
   "outputs": [],
   "source": [
    "fig.savefig(\"race_distribution.png\",dpi=300)"
   ]
  },
  {
   "cell_type": "code",
   "execution_count": 68,
   "metadata": {
    "scrolled": false
   },
   "outputs": [
    {
     "name": "stderr",
     "output_type": "stream",
     "text": [
      "┌ Warning: This test is inaccurate with ties\n",
      "└ @ HypothesisTests /users/zlevin2/.julia/packages/HypothesisTests/Dvf6v/src/kolmogorov_smirnov.jl:167\n"
     ]
    },
    {
     "data": {
      "text/plain": [
       "Approximate two sample Kolmogorov-Smirnov test\n",
       "----------------------------------------------\n",
       "Population details:\n",
       "    parameter of interest:   Supremum of CDF differences\n",
       "    value under h_0:         0.0\n",
       "    point estimate:          1.0\n",
       "\n",
       "Test summary:\n",
       "    outcome with 95% confidence: reject h_0\n",
       "    two-sided p-value:           <1e-09\n",
       "\n",
       "Details:\n",
       "    number of observations:   [22,22]\n",
       "    KS-statistic:              3.316624790355399\n"
      ]
     },
     "execution_count": 68,
     "metadata": {},
     "output_type": "execute_result"
    }
   ],
   "source": [
    "ApproximateTwoSampleKSTest(white_counts[!,:count],native_counts[!,:count])"
   ]
  },
  {
   "cell_type": "code",
   "execution_count": 69,
   "metadata": {},
   "outputs": [
    {
     "name": "stderr",
     "output_type": "stream",
     "text": [
      "┌ Warning: This test is inaccurate with ties\n",
      "└ @ HypothesisTests /users/zlevin2/.julia/packages/HypothesisTests/Dvf6v/src/kolmogorov_smirnov.jl:167\n"
     ]
    },
    {
     "data": {
      "text/plain": [
       "Approximate two sample Kolmogorov-Smirnov test\n",
       "----------------------------------------------\n",
       "Population details:\n",
       "    parameter of interest:   Supremum of CDF differences\n",
       "    value under h_0:         0.0\n",
       "    point estimate:          0.727273\n",
       "\n",
       "Test summary:\n",
       "    outcome with 95% confidence: reject h_0\n",
       "    two-sided p-value:           <1e-04\n",
       "\n",
       "Details:\n",
       "    number of observations:   [22,22]\n",
       "    KS-statistic:              2.4120907566221086\n"
      ]
     },
     "execution_count": 69,
     "metadata": {},
     "output_type": "execute_result"
    }
   ],
   "source": [
    "ApproximateTwoSampleKSTest(white_counts[!,:count],black_counts[!,:count])"
   ]
  },
  {
   "cell_type": "code",
   "execution_count": null,
   "metadata": {},
   "outputs": [],
   "source": []
  }
 ],
 "metadata": {
  "kernelspec": {
   "display_name": "Julia 1.7.2",
   "language": "julia",
   "name": "julia-1.7"
  },
  "language_info": {
   "file_extension": ".jl",
   "mimetype": "application/julia",
   "name": "julia",
   "version": "1.7.2"
  }
 },
 "nbformat": 4,
 "nbformat_minor": 5
}
